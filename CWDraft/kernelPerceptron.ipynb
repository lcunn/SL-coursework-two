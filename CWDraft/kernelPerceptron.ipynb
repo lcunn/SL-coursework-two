{
 "cells": [
  {
   "cell_type": "code",
   "execution_count": 23,
   "metadata": {},
   "outputs": [],
   "source": [
    "import numpy as np\n",
    "import matplotlib.pyplot as plt\n",
    "\n",
    "from functionsN import init_alphas\n",
    "from functionsN import train_test_index_split\n",
    "from functionsN import train_test_basic\n",
    "from functionsN import cross_val\n",
    "from functionsN import find_best_val"
   ]
  },
  {
   "cell_type": "code",
   "execution_count": 22,
   "metadata": {},
   "outputs": [],
   "source": [
    "#Create dot product kernel matrix:\n",
    "\n",
    "# poly_mat = np.einsum('ij,kj->ik', data[:,1:], data[:,1:])\n",
    "\n",
    "# np.save('results/poly_mat.npy', poly_mat)"
   ]
  },
  {
   "cell_type": "code",
   "execution_count": null,
   "metadata": {},
   "outputs": [],
   "source": [
    "#Create Gaussian kernel matrix:\n",
    "\n",
    "# points = data[:,1:]\n",
    "# distances = np.sum((points[:, np.newaxis] - points) ** 2, axis=-1)\n",
    "# gauss_mat = np.exp(-distances)\n",
    "\n",
    "# np.save('results/gauss_mat.npy', gauss_mat)"
   ]
  },
  {
   "cell_type": "code",
   "execution_count": 2,
   "metadata": {},
   "outputs": [],
   "source": [
    "data = np.loadtxt(('zipcombo.dat'))\n",
    "poly_mat = np.load('results/poly_mat.npy')\n",
    "gauss_mat = np.load('results/gauss_mat.npy')\n",
    "\n",
    "data_idx = np.arange(len(data))"
   ]
  },
  {
   "cell_type": "markdown",
   "metadata": {},
   "source": [
    "1. Basic results for the polynomial kernel"
   ]
  },
  {
   "cell_type": "code",
   "execution_count": 3,
   "metadata": {},
   "outputs": [
    {
     "name": "stdout",
     "output_type": "stream",
     "text": [
      "Calculating run 1 for power 1.\n",
      "Calculating run 2 for power 1.\n",
      "Calculating run 3 for power 1.\n",
      "Calculating run 4 for power 1.\n",
      "Calculating run 5 for power 1.\n",
      "Calculating run 6 for power 1.\n",
      "Calculating run 7 for power 1.\n",
      "Calculating run 8 for power 1.\n",
      "Calculating run 9 for power 1.\n",
      "Calculating run 10 for power 1.\n",
      "Calculating run 11 for power 1.\n",
      "Calculating run 12 for power 1.\n",
      "Calculating run 13 for power 1.\n",
      "Calculating run 14 for power 1.\n",
      "Calculating run 15 for power 1.\n",
      "Calculating run 16 for power 1.\n",
      "Calculating run 17 for power 1.\n",
      "Calculating run 18 for power 1.\n",
      "Calculating run 19 for power 1.\n",
      "Calculating run 20 for power 1.\n",
      "Calculating run 1 for power 2.\n",
      "Calculating run 2 for power 2.\n",
      "Calculating run 3 for power 2.\n",
      "Calculating run 4 for power 2.\n",
      "Calculating run 5 for power 2.\n",
      "Calculating run 6 for power 2.\n",
      "Calculating run 7 for power 2.\n",
      "Calculating run 8 for power 2.\n",
      "Calculating run 9 for power 2.\n",
      "Calculating run 10 for power 2.\n",
      "Calculating run 11 for power 2.\n",
      "Calculating run 12 for power 2.\n",
      "Calculating run 13 for power 2.\n",
      "Calculating run 14 for power 2.\n",
      "Calculating run 15 for power 2.\n",
      "Calculating run 16 for power 2.\n",
      "Calculating run 17 for power 2.\n",
      "Calculating run 18 for power 2.\n",
      "Calculating run 19 for power 2.\n",
      "Calculating run 20 for power 2.\n",
      "Calculating run 1 for power 3.\n",
      "Calculating run 2 for power 3.\n",
      "Calculating run 3 for power 3.\n",
      "Calculating run 4 for power 3.\n",
      "Calculating run 5 for power 3.\n",
      "Calculating run 6 for power 3.\n",
      "Calculating run 7 for power 3.\n",
      "Calculating run 8 for power 3.\n",
      "Calculating run 9 for power 3.\n",
      "Calculating run 10 for power 3.\n",
      "Calculating run 11 for power 3.\n",
      "Calculating run 12 for power 3.\n",
      "Calculating run 13 for power 3.\n",
      "Calculating run 14 for power 3.\n",
      "Calculating run 15 for power 3.\n",
      "Calculating run 16 for power 3.\n",
      "Calculating run 17 for power 3.\n",
      "Calculating run 18 for power 3.\n",
      "Calculating run 19 for power 3.\n",
      "Calculating run 20 for power 3.\n",
      "Calculating run 1 for power 4.\n",
      "Calculating run 2 for power 4.\n",
      "Calculating run 3 for power 4.\n",
      "Calculating run 4 for power 4.\n",
      "Calculating run 5 for power 4.\n",
      "Calculating run 6 for power 4.\n",
      "Calculating run 7 for power 4.\n",
      "Calculating run 8 for power 4.\n",
      "Calculating run 9 for power 4.\n",
      "Calculating run 10 for power 4.\n",
      "Calculating run 11 for power 4.\n",
      "Calculating run 12 for power 4.\n",
      "Calculating run 13 for power 4.\n",
      "Calculating run 14 for power 4.\n",
      "Calculating run 15 for power 4.\n",
      "Calculating run 16 for power 4.\n",
      "Calculating run 17 for power 4.\n",
      "Calculating run 18 for power 4.\n",
      "Calculating run 19 for power 4.\n",
      "Calculating run 20 for power 4.\n",
      "Calculating run 1 for power 5.\n",
      "Calculating run 2 for power 5.\n",
      "Calculating run 3 for power 5.\n",
      "Calculating run 4 for power 5.\n",
      "Calculating run 5 for power 5.\n",
      "Calculating run 6 for power 5.\n",
      "Calculating run 7 for power 5.\n",
      "Calculating run 8 for power 5.\n",
      "Calculating run 9 for power 5.\n",
      "Calculating run 10 for power 5.\n",
      "Calculating run 11 for power 5.\n",
      "Calculating run 12 for power 5.\n",
      "Calculating run 13 for power 5.\n",
      "Calculating run 14 for power 5.\n",
      "Calculating run 15 for power 5.\n",
      "Calculating run 16 for power 5.\n",
      "Calculating run 17 for power 5.\n",
      "Calculating run 18 for power 5.\n",
      "Calculating run 19 for power 5.\n",
      "Calculating run 20 for power 5.\n",
      "Calculating run 1 for power 6.\n",
      "Calculating run 2 for power 6.\n",
      "Calculating run 3 for power 6.\n",
      "Calculating run 4 for power 6.\n",
      "Calculating run 5 for power 6.\n",
      "Calculating run 6 for power 6.\n",
      "Calculating run 7 for power 6.\n",
      "Calculating run 8 for power 6.\n",
      "Calculating run 9 for power 6.\n",
      "Calculating run 10 for power 6.\n",
      "Calculating run 11 for power 6.\n",
      "Calculating run 12 for power 6.\n",
      "Calculating run 13 for power 6.\n",
      "Calculating run 14 for power 6.\n",
      "Calculating run 15 for power 6.\n",
      "Calculating run 16 for power 6.\n",
      "Calculating run 17 for power 6.\n",
      "Calculating run 18 for power 6.\n",
      "Calculating run 19 for power 6.\n",
      "Calculating run 20 for power 6.\n",
      "Calculating run 1 for power 7.\n",
      "Calculating run 2 for power 7.\n",
      "Calculating run 3 for power 7.\n",
      "Calculating run 4 for power 7.\n",
      "Calculating run 5 for power 7.\n",
      "Calculating run 6 for power 7.\n",
      "Calculating run 7 for power 7.\n",
      "Calculating run 8 for power 7.\n",
      "Calculating run 9 for power 7.\n",
      "Calculating run 10 for power 7.\n",
      "Calculating run 11 for power 7.\n",
      "Calculating run 12 for power 7.\n",
      "Calculating run 13 for power 7.\n",
      "Calculating run 14 for power 7.\n",
      "Calculating run 15 for power 7.\n",
      "Calculating run 16 for power 7.\n",
      "Calculating run 17 for power 7.\n",
      "Calculating run 18 for power 7.\n",
      "Calculating run 19 for power 7.\n",
      "Calculating run 20 for power 7.\n"
     ]
    }
   ],
   "source": [
    "#results stored: dim1=d, dim2=run, dim3=train/test\n",
    "results = np.zeros((7,20,2))\n",
    "\n",
    "for d in range(7):\n",
    "    for i in range(20):\n",
    "        train_idx, test_idx = train_test_index_split(data_idx)\n",
    "        r_train, r_test = train_test_basic(train_idx, test_idx, poly_mat, d+1)\n",
    "        print(f'Calculating run {i+1} for power {d+1}.')\n",
    "        results[d,i,0], results[d,i,1] = r_train['error_rate'], r_test['error_rate'] \n",
    "\n",
    "np.save('resultsN/basic_poly_results.npy', results)"
   ]
  },
  {
   "cell_type": "code",
   "execution_count": 16,
   "metadata": {},
   "outputs": [],
   "source": [
    "basic_poly_results_loaded = np.load('resultsN/basic_poly_results.npy')"
   ]
  },
  {
   "cell_type": "code",
   "execution_count": 17,
   "metadata": {},
   "outputs": [],
   "source": [
    "means = np.mean(basic_poly_results_loaded, axis = 1)\n",
    "stds = np.std(basic_poly_results_loaded, axis=1)"
   ]
  },
  {
   "cell_type": "markdown",
   "metadata": {},
   "source": [
    "2. Cross-validation, 3. Confusion matrix"
   ]
  },
  {
   "cell_type": "code",
   "execution_count": 4,
   "metadata": {},
   "outputs": [
    {
     "name": "stdout",
     "output_type": "stream",
     "text": [
      "Run 1\n",
      "Run 2\n",
      "Run 3\n",
      "Run 4\n",
      "Run 5\n",
      "Run 6\n",
      "Run 7\n",
      "Run 8\n",
      "Run 9\n",
      "Run 10\n",
      "Run 11\n",
      "Run 12\n",
      "Run 13\n",
      "Run 14\n",
      "Run 15\n",
      "Run 16\n",
      "Run 17\n",
      "Run 18\n",
      "Run 19\n",
      "Run 20\n"
     ]
    }
   ],
   "source": [
    "candidates = [1,2,3,4,5,6,7]\n",
    "\n",
    "d_star_list = np.zeros(20)\n",
    "test_error_list = np.zeros(20)\n",
    "conf_mat_list = np.zeros((20,10,10))\n",
    "incorrect_pred_idx = np.zeros(len(data))\n",
    "\n",
    "CV_mistakes_idx = data_idx.copy()\n",
    "        \n",
    "for i in range(20):\n",
    "    print(f'Run {i+1}')\n",
    "    d_star, r_train, r_test = find_best_val(data_idx, poly_mat, candidates)\n",
    "    d_star_list[i] = d_star\n",
    "    test_error_list[i] = r_test['error_rate']\n",
    "    conf_mat_list[i,:,:] = r_test['conf_mat']\n",
    "    incorrect_pred_idx += r_test['mistakes_idx']\n",
    "\n",
    "np.save('resultsN/poly_best_vals.npy', d_star_list)\n",
    "np.save('resultsN/poly_cv_errors.npy', test_error_list)\n",
    "np.save('resultsN/poly_conf_mats.npy', conf_mat_list)\n",
    "np.save('resultsN/poly_wrong_preds.npy', incorrect_pred_idx)"
   ]
  },
  {
   "cell_type": "code",
   "execution_count": 14,
   "metadata": {},
   "outputs": [],
   "source": [
    "d_star_list_loaded = np.load('resultsN/poly_best_vals.npy')\n",
    "test_error_list_loaded = np.load('resultsN/poly_cv_errors.npy')\n",
    "conf_mat_list_loaded = np.load('resultsN/poly_conf_mats.npy')"
   ]
  },
  {
   "cell_type": "code",
   "execution_count": 10,
   "metadata": {},
   "outputs": [],
   "source": [
    "test_error_mean = np.mean(test_error_list_loaded)\n",
    "test_error_std = np.std(test_error_list_loaded)"
   ]
  },
  {
   "cell_type": "code",
   "execution_count": 19,
   "metadata": {},
   "outputs": [],
   "source": [
    "conf_mat_mean = np.mean(conf_mat_list_loaded, axis=0)\n",
    "conf_mat_std = np.std(conf_mat_list_loaded, axis=0)"
   ]
  },
  {
   "cell_type": "code",
   "execution_count": 21,
   "metadata": {},
   "outputs": [
    {
     "data": {
      "text/plain": [
       "array([[0.        , 0.00134136, 0.0028993 , 0.0021518 , 0.00156114,\n",
       "        0.00295392, 0.0027109 , 0.00129596, 0.00117737, 0.00137602],\n",
       "       [0.        , 0.        , 0.0015973 , 0.00088957, 0.00414789,\n",
       "        0.00086486, 0.00267791, 0.00226906, 0.00234563, 0.00181621],\n",
       "       [0.00422852, 0.00398196, 0.        , 0.00507499, 0.00588298,\n",
       "        0.00350299, 0.00357414, 0.00528413, 0.00502233, 0.00102322],\n",
       "       [0.00446946, 0.00312971, 0.00474238, 0.        , 0.00280204,\n",
       "        0.00881538, 0.00241557, 0.00495264, 0.0058712 , 0.00248306],\n",
       "       [0.00172423, 0.00440213, 0.00527108, 0.00203723, 0.        ,\n",
       "        0.00286482, 0.00638395, 0.00431327, 0.0020421 , 0.00655704],\n",
       "       [0.00701381, 0.00253409, 0.0033022 , 0.00908472, 0.00513551,\n",
       "        0.        , 0.00583155, 0.00343576, 0.00534192, 0.00397128],\n",
       "       [0.0071712 , 0.00352545, 0.00352134, 0.        , 0.00471255,\n",
       "        0.00477796, 0.        , 0.00311917, 0.0047017 , 0.        ],\n",
       "       [0.00226674, 0.00611386, 0.00695398, 0.00260393, 0.00758688,\n",
       "        0.00291174, 0.00163868, 0.        , 0.00360079, 0.00778982],\n",
       "       [0.00965641, 0.00715199, 0.0067281 , 0.00775732, 0.00555053,\n",
       "        0.01067582, 0.00692756, 0.00681837, 0.        , 0.00419879],\n",
       "       [0.00314776, 0.00121757, 0.00338895, 0.00173636, 0.00931555,\n",
       "        0.00436543, 0.00114708, 0.00927091, 0.00399445, 0.        ]])"
      ]
     },
     "execution_count": 21,
     "metadata": {},
     "output_type": "execute_result"
    }
   ],
   "source": [
    "conf_mat_std"
   ]
  },
  {
   "cell_type": "markdown",
   "metadata": {},
   "source": [
    "4. Hardest to predict images"
   ]
  },
  {
   "cell_type": "code",
   "execution_count": 27,
   "metadata": {},
   "outputs": [
    {
     "name": "stdout",
     "output_type": "stream",
     "text": [
      "round 1\n",
      "d: 5\n",
      "d: 6\n",
      "d: 7\n",
      "round 2\n",
      "d: 5\n",
      "d: 6\n",
      "d: 7\n",
      "round 3\n",
      "d: 5\n",
      "d: 6\n",
      "d: 7\n",
      "round 4\n",
      "d: 5\n",
      "d: 6\n",
      "d: 7\n",
      "round 5\n",
      "d: 5\n",
      "d: 6\n",
      "d: 7\n",
      "round 6\n",
      "d: 5\n",
      "d: 6\n",
      "d: 7\n",
      "round 7\n",
      "d: 5\n",
      "d: 6\n",
      "d: 7\n",
      "round 8\n",
      "d: 5\n",
      "d: 6\n",
      "d: 7\n",
      "round 9\n",
      "d: 5\n",
      "d: 6\n",
      "d: 7\n",
      "round 10\n",
      "d: 5\n",
      "d: 6\n",
      "d: 7\n"
     ]
    }
   ],
   "source": [
    "# set up a toy run to see which images are hardest to predict\n",
    "#need to account for how many times they were tested\n",
    "\n",
    "def count_mistakes(n):\n",
    "    \n",
    "    incorrect_pred_idx = np.zeros(len(data))\n",
    "\n",
    "    for i in range(n):\n",
    "        print(f'round {i+1}')\n",
    "        for dd in range(5,8):\n",
    "            print(f'd: {dd}')\n",
    "            #use cross-validating split to ensure every data point gets tested the same # of times\n",
    "            train_idx, test_idx = train_test_index_split(data_idx, CV=True)\n",
    "            for k in range(5):\n",
    "                r_train, r_test = train_test_basic(train_idx[k], test_idx[k], poly_mat, dd, keep_mistakes=True)\n",
    "                incorrect_pred_idx += r_test['mistakes_idx']\n",
    "            \n",
    "    num_tests = n*3\n",
    "    return incorrect_pred_idx, num_tests\n",
    "\n",
    "wrong_preds = count_mistakes(10)\n",
    "\n",
    "np.save('resultsN/wrong_pics.npy', wrong_preds[0])\n"
   ]
  },
  {
   "cell_type": "code",
   "execution_count": 29,
   "metadata": {},
   "outputs": [
    {
     "name": "stdout",
     "output_type": "stream",
     "text": [
      "[8333  226  111   99   70   44   28   38   30   15   14   14   12   23\n",
      "   12   17    8   15    9   16   14   10   10   13    6    8    5   14\n",
      "   18   20   46]\n"
     ]
    },
    {
     "data": {
      "image/png": "[encoded data removed]",
      "text/plain": [
       "<Figure size 640x480 with 1 Axes>"
      ]
     },
     "metadata": {},
     "output_type": "display_data"
    },
    {
     "data": {
      "image/png": "[encoded data removed]",
      "text/plain": [
       "<Figure size 640x480 with 1 Axes>"
      ]
     },
     "metadata": {},
     "output_type": "display_data"
    },
    {
     "data": {
      "image/png": "[encoded data removed]",
      "text/plain": [
       "<Figure size 640x480 with 1 Axes>"
      ]
     },
     "metadata": {},
     "output_type": "display_data"
    },
    {
     "data": {
      "image/png": "[encoded data removed]",
      "text/plain": [
       "<Figure size 640x480 with 1 Axes>"
      ]
     },
     "metadata": {},
     "output_type": "display_data"
    },
    {
     "data": {
      "image/png": "[encoded data removed]",
      "text/plain": [
       "<Figure size 640x480 with 1 Axes>"
      ]
     },
     "metadata": {},
     "output_type": "display_data"
    },
    {
     "data": {
      "image/png": "[encoded data removed]",
      "text/plain": [
       "<Figure size 640x480 with 1 Axes>"
      ]
     },
     "metadata": {},
     "output_type": "display_data"
    },
    {
     "data": {
      "image/png": "[encoded data removed]",
      "text/plain": [
       "<Figure size 640x480 with 1 Axes>"
      ]
     },
     "metadata": {},
     "output_type": "display_data"
    }
   ],
   "source": [
    "wrong_pred_counts_loaded = np.load('resultsN/wrong_pics.npy')\n",
    "\n",
    "print(np.bincount(wrong_pred_counts_loaded.astype(int)))\n",
    "\n",
    "hardest_to_predict = np.argsort(-wrong_pred_counts_loaded)\n",
    "\n",
    "def plot_char(char):\n",
    "    label = char[0]\n",
    "    pixels = np.array(char[1:257]).reshape(16, 16)\n",
    "    \n",
    "    # Plotting\n",
    "    plt.imshow(pixels, cmap='gray')\n",
    "    plt.title(f\"The number {label}\")\n",
    "    plt.show()\n",
    "\n",
    "for i in hardest_to_predict[:7]:\n",
    "    plot_char(data[i,:])"
   ]
  },
  {
   "cell_type": "markdown",
   "metadata": {},
   "source": [
    "5. Gaussian Kernel"
   ]
  },
  {
   "cell_type": "code",
   "execution_count": null,
   "metadata": {},
   "outputs": [],
   "source": [
    "initial_candidates = [-2,-1,-0.5,-0.1,0.001,0.005,0.01,0.025,0.50,0.075,0.1,0.15,0.2,0.3,0.5,1,2]\n",
    "\n",
    "errors = {c: None for c in initial_candidates}\n",
    "\n",
    "for c in initial_candidates:\n",
    "    train_idx, test_idx = train_test_index_split(data_idx)\n",
    "    r_train, r_test = train_test_basic(train_idx, test_idx, gauss_mat, c)\n",
    "    errors[c] = r_test['error_rate']\n",
    "\n",
    "np.save('resultsN/gauss_init_errors.npy', errors)"
   ]
  },
  {
   "cell_type": "markdown",
   "metadata": {},
   "source": [
    "Questions 1 and 2 with the Gaussian kernel   "
   ]
  },
  {
   "cell_type": "code",
   "execution_count": 5,
   "metadata": {},
   "outputs": [
    {
     "name": "stdout",
     "output_type": "stream",
     "text": [
      "Calculating run 1 for candidate 1.\n",
      "Calculating run 2 for candidate 1.\n",
      "Calculating run 3 for candidate 1.\n"
     ]
    },
    {
     "ename": "KeyboardInterrupt",
     "evalue": "",
     "output_type": "error",
     "traceback": [
      "\u001b[1;31m---------------------------------------------------------------------------\u001b[0m",
      "\u001b[1;31mKeyboardInterrupt\u001b[0m                         Traceback (most recent call last)",
      "Cell \u001b[1;32mIn[5], line 9\u001b[0m\n\u001b[0;32m      7\u001b[0m         \u001b[38;5;28mprint\u001b[39m(\u001b[38;5;124mf\u001b[39m\u001b[38;5;124m'\u001b[39m\u001b[38;5;124mCalculating run \u001b[39m\u001b[38;5;132;01m{\u001b[39;00mi\u001b[38;5;241m+\u001b[39m\u001b[38;5;241m1\u001b[39m\u001b[38;5;132;01m}\u001b[39;00m\u001b[38;5;124m for candidate \u001b[39m\u001b[38;5;132;01m{\u001b[39;00mj\u001b[38;5;241m+\u001b[39m\u001b[38;5;241m1\u001b[39m\u001b[38;5;132;01m}\u001b[39;00m\u001b[38;5;124m.\u001b[39m\u001b[38;5;124m'\u001b[39m)\n\u001b[0;32m      8\u001b[0m         train_idx, test_idx \u001b[38;5;241m=\u001b[39m train_test_index_split(data_idx)\n\u001b[1;32m----> 9\u001b[0m         r_train, r_test \u001b[38;5;241m=\u001b[39m \u001b[43mtrain_test_basic\u001b[49m\u001b[43m(\u001b[49m\u001b[43mtrain_idx\u001b[49m\u001b[43m,\u001b[49m\u001b[43m \u001b[49m\u001b[43mtest_idx\u001b[49m\u001b[43m,\u001b[49m\u001b[43m \u001b[49m\u001b[43mgauss_mat\u001b[49m\u001b[43m,\u001b[49m\u001b[43m \u001b[49m\u001b[43mc\u001b[49m\u001b[43m)\u001b[49m\n\u001b[0;32m     10\u001b[0m         results[j,i,\u001b[38;5;241m0\u001b[39m], results[j,i,\u001b[38;5;241m1\u001b[39m] \u001b[38;5;241m=\u001b[39m r_train[\u001b[38;5;124m'\u001b[39m\u001b[38;5;124merror_rate\u001b[39m\u001b[38;5;124m'\u001b[39m], r_test[\u001b[38;5;124m'\u001b[39m\u001b[38;5;124merror_rate\u001b[39m\u001b[38;5;124m'\u001b[39m] \n\u001b[0;32m     12\u001b[0m np\u001b[38;5;241m.\u001b[39msave(\u001b[38;5;124m'\u001b[39m\u001b[38;5;124mresultsN/basic_gauss_results.npy\u001b[39m\u001b[38;5;124m'\u001b[39m, results)\n",
      "File \u001b[1;32mc:\\Users\\cunn2\\OneDrive\\DSML\\T1\\supervised-learning\\SL-coursework-two\\functionsN.py:156\u001b[0m, in \u001b[0;36mtrain_test_basic\u001b[1;34m(train_idx, test_idx, kernel_mat, exponent, epochs, calc_conf, keep_mistakes)\u001b[0m\n\u001b[0;32m    149\u001b[0m \u001b[38;5;250m\u001b[39m\u001b[38;5;124;03m'''\u001b[39;00m\n\u001b[0;32m    150\u001b[0m \u001b[38;5;124;03mRuns the train and test methods\u001b[39;00m\n\u001b[0;32m    151\u001b[0m \n\u001b[0;32m    152\u001b[0m \u001b[38;5;124;03m\u001b[39;00m\n\u001b[0;32m    153\u001b[0m \u001b[38;5;124;03m'''\u001b[39;00m\n\u001b[0;32m    154\u001b[0m alphas \u001b[38;5;241m=\u001b[39m init_alphas(train_idx)\n\u001b[1;32m--> 156\u001b[0m train_results \u001b[38;5;241m=\u001b[39m \u001b[43mtrain_perceptron\u001b[49m\u001b[43m(\u001b[49m\u001b[43mtrain_idx\u001b[49m\u001b[43m,\u001b[49m\u001b[43m \u001b[49m\u001b[43malphas\u001b[49m\u001b[43m,\u001b[49m\u001b[43m \u001b[49m\u001b[43mkernel_mat\u001b[49m\u001b[43m,\u001b[49m\u001b[43m \u001b[49m\u001b[43mexponent\u001b[49m\u001b[43m)\u001b[49m\n\u001b[0;32m    157\u001b[0m \u001b[38;5;28;01mfor\u001b[39;00m e \u001b[38;5;129;01min\u001b[39;00m \u001b[38;5;28mrange\u001b[39m(epochs\u001b[38;5;241m-\u001b[39m\u001b[38;5;241m1\u001b[39m):\n\u001b[0;32m    158\u001b[0m     train_results \u001b[38;5;241m=\u001b[39m train_perceptron(train_idx, train_results[\u001b[38;5;124m'\u001b[39m\u001b[38;5;124malphas\u001b[39m\u001b[38;5;124m'\u001b[39m], kernel_mat, exponent)\n",
      "File \u001b[1;32mc:\\Users\\cunn2\\OneDrive\\DSML\\T1\\supervised-learning\\SL-coursework-two\\functionsN.py:65\u001b[0m, in \u001b[0;36mtrain_perceptron\u001b[1;34m(data_idx, alphas, kernel_mat, exponent)\u001b[0m\n\u001b[0;32m     62\u001b[0m     alphas[:,i] \u001b[38;5;241m-\u001b[39m\u001b[38;5;241m=\u001b[39m is_pred_wrong\u001b[38;5;241m*\u001b[39mpreds_binary\n\u001b[0;32m     64\u001b[0m     \u001b[38;5;66;03m#add mistake\u001b[39;00m\n\u001b[1;32m---> 65\u001b[0m     \u001b[38;5;28;01mif\u001b[39;00m \u001b[43mnp\u001b[49m\u001b[38;5;241;43m.\u001b[39;49m\u001b[43margmax\u001b[49m\u001b[43m(\u001b[49m\u001b[43mpreds\u001b[49m\u001b[43m)\u001b[49m \u001b[38;5;241m!=\u001b[39m label:\n\u001b[0;32m     66\u001b[0m         mistakes \u001b[38;5;241m+\u001b[39m\u001b[38;5;241m=\u001b[39m \u001b[38;5;241m1\u001b[39m\n\u001b[0;32m     68\u001b[0m error_rate \u001b[38;5;241m=\u001b[39m mistakes\u001b[38;5;241m/\u001b[39m\u001b[38;5;28mlen\u001b[39m(data)\n",
      "File \u001b[1;32mc:\\Users\\cunn2\\miniconda3\\envs\\sl-env\\Lib\\site-packages\\numpy\\core\\fromnumeric.py:1229\u001b[0m, in \u001b[0;36margmax\u001b[1;34m(a, axis, out, keepdims)\u001b[0m\n\u001b[0;32m   1142\u001b[0m \u001b[38;5;250m\u001b[39m\u001b[38;5;124;03m\"\"\"\u001b[39;00m\n\u001b[0;32m   1143\u001b[0m \u001b[38;5;124;03mReturns the indices of the maximum values along an axis.\u001b[39;00m\n\u001b[0;32m   1144\u001b[0m \n\u001b[1;32m   (...)\u001b[0m\n\u001b[0;32m   1226\u001b[0m \u001b[38;5;124;03m(2, 1, 4)\u001b[39;00m\n\u001b[0;32m   1227\u001b[0m \u001b[38;5;124;03m\"\"\"\u001b[39;00m\n\u001b[0;32m   1228\u001b[0m kwds \u001b[38;5;241m=\u001b[39m {\u001b[38;5;124m'\u001b[39m\u001b[38;5;124mkeepdims\u001b[39m\u001b[38;5;124m'\u001b[39m: keepdims} \u001b[38;5;28;01mif\u001b[39;00m keepdims \u001b[38;5;129;01mis\u001b[39;00m \u001b[38;5;129;01mnot\u001b[39;00m np\u001b[38;5;241m.\u001b[39m_NoValue \u001b[38;5;28;01melse\u001b[39;00m {}\n\u001b[1;32m-> 1229\u001b[0m \u001b[38;5;28;01mreturn\u001b[39;00m \u001b[43m_wrapfunc\u001b[49m\u001b[43m(\u001b[49m\u001b[43ma\u001b[49m\u001b[43m,\u001b[49m\u001b[43m \u001b[49m\u001b[38;5;124;43m'\u001b[39;49m\u001b[38;5;124;43margmax\u001b[39;49m\u001b[38;5;124;43m'\u001b[39;49m\u001b[43m,\u001b[49m\u001b[43m \u001b[49m\u001b[43maxis\u001b[49m\u001b[38;5;241;43m=\u001b[39;49m\u001b[43maxis\u001b[49m\u001b[43m,\u001b[49m\u001b[43m \u001b[49m\u001b[43mout\u001b[49m\u001b[38;5;241;43m=\u001b[39;49m\u001b[43mout\u001b[49m\u001b[43m,\u001b[49m\u001b[43m \u001b[49m\u001b[38;5;241;43m*\u001b[39;49m\u001b[38;5;241;43m*\u001b[39;49m\u001b[43mkwds\u001b[49m\u001b[43m)\u001b[49m\n",
      "File \u001b[1;32mc:\\Users\\cunn2\\miniconda3\\envs\\sl-env\\Lib\\site-packages\\numpy\\core\\fromnumeric.py:59\u001b[0m, in \u001b[0;36m_wrapfunc\u001b[1;34m(obj, method, *args, **kwds)\u001b[0m\n\u001b[0;32m     56\u001b[0m     \u001b[38;5;28;01mreturn\u001b[39;00m _wrapit(obj, method, \u001b[38;5;241m*\u001b[39margs, \u001b[38;5;241m*\u001b[39m\u001b[38;5;241m*\u001b[39mkwds)\n\u001b[0;32m     58\u001b[0m \u001b[38;5;28;01mtry\u001b[39;00m:\n\u001b[1;32m---> 59\u001b[0m     \u001b[38;5;28;01mreturn\u001b[39;00m \u001b[43mbound\u001b[49m\u001b[43m(\u001b[49m\u001b[38;5;241;43m*\u001b[39;49m\u001b[43margs\u001b[49m\u001b[43m,\u001b[49m\u001b[43m \u001b[49m\u001b[38;5;241;43m*\u001b[39;49m\u001b[38;5;241;43m*\u001b[39;49m\u001b[43mkwds\u001b[49m\u001b[43m)\u001b[49m\n\u001b[0;32m     60\u001b[0m \u001b[38;5;28;01mexcept\u001b[39;00m \u001b[38;5;167;01mTypeError\u001b[39;00m:\n\u001b[0;32m     61\u001b[0m     \u001b[38;5;66;03m# A TypeError occurs if the object does have such a method in its\u001b[39;00m\n\u001b[0;32m     62\u001b[0m     \u001b[38;5;66;03m# class, but its signature is not identical to that of NumPy's. This\u001b[39;00m\n\u001b[1;32m   (...)\u001b[0m\n\u001b[0;32m     66\u001b[0m     \u001b[38;5;66;03m# Call _wrapit from within the except clause to ensure a potential\u001b[39;00m\n\u001b[0;32m     67\u001b[0m     \u001b[38;5;66;03m# exception has a traceback chain.\u001b[39;00m\n\u001b[0;32m     68\u001b[0m     \u001b[38;5;28;01mreturn\u001b[39;00m _wrapit(obj, method, \u001b[38;5;241m*\u001b[39margs, \u001b[38;5;241m*\u001b[39m\u001b[38;5;241m*\u001b[39mkwds)\n",
      "\u001b[1;31mKeyboardInterrupt\u001b[0m: "
     ]
    }
   ],
   "source": [
    "#Question 1:\n",
    "results = np.zeros((7,20,2))\n",
    "candidates = [0.005, 0.010, 0.015, 0.020, 0.025, 0.030, 0.035]\n",
    "\n",
    "for j,c in enumerate(candidates):\n",
    "    for i in range(20):\n",
    "        print(f'Calculating run {i+1} for candidate {j+1}.')\n",
    "        train_idx, test_idx = train_test_index_split(data_idx)\n",
    "        r_train, r_test = train_test_basic(train_idx, test_idx, gauss_mat, c)\n",
    "        results[j,i,0], results[j,i,1] = r_train['error_rate'], r_test['error_rate'] \n",
    "\n",
    "np.save('resultsN/basic_gauss_results.npy', results)"
   ]
  },
  {
   "cell_type": "code",
   "execution_count": null,
   "metadata": {},
   "outputs": [],
   "source": [
    "basic_gauss_results_loaded = np.load('resultsN/basic_gauss_results.npy')\n",
    "\n",
    "means = np.mean(basic_gauss_results_loaded, axis = 1)\n",
    "stds = np.std(basic_gauss_results_loaded, axis=1)"
   ]
  },
  {
   "cell_type": "code",
   "execution_count": null,
   "metadata": {},
   "outputs": [],
   "source": [
    "#Question 2:\n",
    "\n",
    "candidates = [0.005, 0.010, 0.015, 0.020, 0.025, 0.030, 0.035]\n",
    "\n",
    "c_star_list = np.zeros(20)\n",
    "test_error_list = np.zeros(20)\n",
    "        \n",
    "for i in range(20):\n",
    "    print(f'Run {i+1}')\n",
    "    c_star, r_train, r_test = find_best_val(data_idx, poly_mat, candidates, calc_conf=False, keep_mistakes=False)\n",
    "    c_star_list[i] = c_star\n",
    "    test_error_list[i] = r_test['error_rate']\n",
    "\n",
    "np.save('resultsN/gauss_best_vals.npy', c_star_list)\n",
    "np.save('resultsN/gauss_cv_errors.npy', test_error_list)"
   ]
  }
 ],
 "metadata": {
  "kernelspec": {
   "display_name": "sl-env",
   "language": "python",
   "name": "python3"
  },
  "language_info": {
   "codemirror_mode": {
    "name": "ipython",
    "version": 3
   },
   "file_extension": ".py",
   "mimetype": "text/x-python",
   "name": "python",
   "nbconvert_exporter": "python",
   "pygments_lexer": "ipython3",
   "version": "3.11.7"
  }
 },
 "nbformat": 4,
 "nbformat_minor": 2
}
